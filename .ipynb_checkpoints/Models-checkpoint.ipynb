{
 "cells": [
  {
   "cell_type": "code",
   "execution_count": 1,
   "metadata": {},
   "outputs": [],
   "source": [
    "import numpy as np\n",
    "import pandas as pd\n",
    "import seaborn as sns\n",
    "import matplotlib.pyplot as plt\n",
    "import matplotlib.ticker as ticker\n",
    "import plotly.express as px\n",
    "import sklearn\n",
    "import math"
   ]
  },
  {
   "cell_type": "code",
   "execution_count": 2,
   "metadata": {},
   "outputs": [],
   "source": [
    "df = pd.read_csv('2-9_Jan_2019.csv')\n",
    "\n",
    "df_jan = pd.read_csv('all_usage_jan_2019.csv')\n",
    "df_feb = pd.read_csv('all_usage_feb_2019.csv')\n",
    "df_mar = pd.read_csv('all_usage_mar_2019.csv')\n",
    "df_apr = pd.read_csv('all_usage_apr_2019.csv')\n",
    "df_may = pd.read_csv('all_usage_may_2019.csv')\n",
    "df_jun = pd.read_csv('all_usage_jun_2019.csv')\n",
    "df_jul = pd.read_csv('all_usage_jul_2019.csv')\n",
    "df_aug = pd.read_csv('all_usage_aug_2019.csv')\n",
    "df_sep = pd.read_csv('all_usage_sep_2019.csv')\n",
    "\n",
    "df_all = pd.read_csv('all_usage_Jan_to_Sep_new.csv')\n",
    "df_merged = pd.read_csv('usage_and_failed_search_new.csv')\n",
    "df_open = pd.read_csv('all_usage_open_new.csv')\n",
    "df_open_merged = pd.read_csv('usage_and_failed_open_sem.csv')\n",
    "df_close = pd.read_csv('all_usage_close_new.csv')\n",
    "df_close_merged = pd.read_csv('usage_and_failed_close_sem.csv')"
   ]
  },
  {
   "cell_type": "code",
   "execution_count": null,
   "metadata": {},
   "outputs": [],
   "source": [
    "from sklearn.cluster import KMeans\n",
    "Kmean = KMeans(n_clusters=3)\n",
    "X = \n",
    "Kmean.fit(X)"
   ]
  }
 ],
 "metadata": {
  "kernelspec": {
   "display_name": "Python 3",
   "language": "python",
   "name": "python3"
  },
  "language_info": {
   "codemirror_mode": {
    "name": "ipython",
    "version": 3
   },
   "file_extension": ".py",
   "mimetype": "text/x-python",
   "name": "python",
   "nbconvert_exporter": "python",
   "pygments_lexer": "ipython3",
   "version": "3.7.6"
  }
 },
 "nbformat": 4,
 "nbformat_minor": 2
}
